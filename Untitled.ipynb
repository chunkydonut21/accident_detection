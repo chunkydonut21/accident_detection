{
 "cells": [
  {
   "cell_type": "code",
   "execution_count": null,
   "id": "8db2c66f",
   "metadata": {},
   "outputs": [],
   "source": [
    "import os\n",
    "import cv2\n",
    "from tqdm import tqdm\n",
    "\n",
    "def extract_frames_from_video(video_path, output_dir, frame_interval=5):\n",
    "    \"\"\"\n",
    "    Extract frames from a video and save them as images.\n",
    "\n",
    "    Args:\n",
    "    - video_path (str): Path to the video file.\n",
    "    - output_dir (str): Directory to save extracted frames.\n",
    "    - frame_interval (int): Save every `n`th frame.\n",
    "    \"\"\"\n",
    "    os.makedirs(output_dir, exist_ok=True)\n",
    "    cap = cv2.VideoCapture(video_path)\n",
    "\n",
    "    if not cap.isOpened():\n",
    "        print(f\"Error: Unable to open video {video_path}\")\n",
    "        return\n",
    "\n",
    "    total_frames = int(cap.get(cv2.CAP_PROP_FRAME_COUNT))\n",
    "    frame_count = 0\n",
    "    saved_frames = 0\n",
    "\n",
    "    print(f\"Extracting frames from {video_path}...\")\n",
    "    for _ in tqdm(range(total_frames), desc=\"Processing frames\"):\n",
    "        ret, frame = cap.read()\n",
    "        if not ret:\n",
    "            break\n",
    "\n",
    "        if frame_count % frame_interval == 0:\n",
    "            frame_name = f\"frame_{frame_count:05d}.jpg\"\n",
    "            frame_path = os.path.join(output_dir, frame_name)\n",
    "            cv2.imwrite(frame_path, frame)\n",
    "            saved_frames += 1\n",
    "\n",
    "        frame_count += 1\n",
    "\n",
    "    cap.release()\n",
    "    print(f\"Done! Extracted {saved_frames} frames to {output_dir}\")\n",
    "\n",
    "# Example Usage\n",
    "video_path = \"./data/sample_video.mp4\"  # Replace with your video path\n",
    "output_dir = \"./data/frames/\"  # Directory to save frames\n",
    "frame_interval = 5  # Extract every 5th frame\n",
    "extract_frames_from_video(video_path, output_dir, frame_interval)\n"
   ]
  }
 ],
 "metadata": {
  "kernelspec": {
   "display_name": "Python 3 (ipykernel)",
   "language": "python",
   "name": "python3"
  },
  "language_info": {
   "codemirror_mode": {
    "name": "ipython",
    "version": 3
   },
   "file_extension": ".py",
   "mimetype": "text/x-python",
   "name": "python",
   "nbconvert_exporter": "python",
   "pygments_lexer": "ipython3",
   "version": "3.11.5"
  }
 },
 "nbformat": 4,
 "nbformat_minor": 5
}
